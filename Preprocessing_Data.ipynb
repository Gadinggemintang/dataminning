{
  "nbformat": 4,
  "nbformat_minor": 0,
  "metadata": {
    "colab": {
      "name": "Preprocessing Data.ipynb",
      "provenance": [],
      "collapsed_sections": []
    },
    "kernelspec": {
      "name": "python3",
      "display_name": "Python 3"
    },
    "language_info": {
      "name": "python"
    }
  },
  "cells": [
    {
      "cell_type": "code",
      "execution_count": 185,
      "metadata": {
        "id": "eCXRYxnurLX2"
      },
      "outputs": [],
      "source": [
        "import numpy as np\n",
        "import matplotlib.pyplot as plt\n",
        "import pandas as pd\n"
      ]
    },
    {
      "cell_type": "code",
      "source": [
        "dataset = pd.read_csv('dataa.csv')\n",
        "x = dataset.iloc[:, :-1].values\n",
        "y = dataset.iloc[:, -1].values"
      ],
      "metadata": {
        "id": "5ga2HQpKsjsT"
      },
      "execution_count": 205,
      "outputs": []
    },
    {
      "cell_type": "code",
      "source": [
        "print(x)"
      ],
      "metadata": {
        "colab": {
          "base_uri": "https://localhost:8080/"
        },
        "id": "RG7RVtrZtSYo",
        "outputId": "4cfd5eb8-faef-4d00-9ad4-e25c60ac25db"
      },
      "execution_count": 206,
      "outputs": [
        {
          "output_type": "stream",
          "name": "stdout",
          "text": [
            "[['boja' 66.0 3000.0]\n",
            " ['mijen' 23.0 nan]\n",
            " ['krapyak' 71.0 43000.0]\n",
            " ['ngaliyan' nan 30000.0]\n",
            " ['jrakah' 21.0 21000.0]\n",
            " ['majapahit' 45.0 2100.0]\n",
            " ['kalibanteng' 67.0 2300.0]]\n"
          ]
        }
      ]
    },
    {
      "cell_type": "code",
      "source": [
        "print(y)"
      ],
      "metadata": {
        "colab": {
          "base_uri": "https://localhost:8080/"
        },
        "id": "35ExKYYct48L",
        "outputId": "1eea74c8-0fd0-404a-e6a1-a17f7fb6706f"
      },
      "execution_count": 207,
      "outputs": [
        {
          "output_type": "stream",
          "name": "stdout",
          "text": [
            "['ya' 'tidak' 'ya' 'tidak' 'ya' 'ya' 'tidak']\n"
          ]
        }
      ]
    },
    {
      "cell_type": "code",
      "source": [
        "from sklearn.impute import SimpleImputer\n",
        "imputer = SimpleImputer(missing_values=np.nan, strategy='mean')\n",
        "imputer.fit(x[:, 1:3])\n",
        "x[:, 1:3] = imputer.transform(x[:, 1:3])"
      ],
      "metadata": {
        "id": "IPpBemcNuCCo"
      },
      "execution_count": 208,
      "outputs": []
    },
    {
      "cell_type": "code",
      "source": [
        "print(x)"
      ],
      "metadata": {
        "colab": {
          "base_uri": "https://localhost:8080/"
        },
        "id": "HpwUFLKxuvew",
        "outputId": "04a99d7e-8e85-4648-aa79-51191abffd82"
      },
      "execution_count": 209,
      "outputs": [
        {
          "output_type": "stream",
          "name": "stdout",
          "text": [
            "[['boja' 66.0 3000.0]\n",
            " ['mijen' 23.0 16900.0]\n",
            " ['krapyak' 71.0 43000.0]\n",
            " ['ngaliyan' 48.833333333333336 30000.0]\n",
            " ['jrakah' 21.0 21000.0]\n",
            " ['majapahit' 45.0 2100.0]\n",
            " ['kalibanteng' 67.0 2300.0]]\n"
          ]
        }
      ]
    },
    {
      "cell_type": "code",
      "source": [
        "from sklearn.compose import ColumnTransformer\n",
        "from sklearn.preprocessing import OneHotEncoder\n",
        "ct = ColumnTransformer(transformers=[('encoder', OneHotEncoder(), [0])], remainder='passthrough') \n",
        "x = np.array(ct.fit_transform(x))"
      ],
      "metadata": {
        "id": "iLWqrKNru7Hu"
      },
      "execution_count": 210,
      "outputs": []
    },
    {
      "cell_type": "code",
      "source": [
        "print(x)"
      ],
      "metadata": {
        "colab": {
          "base_uri": "https://localhost:8080/"
        },
        "id": "gfyVdIY8whH3",
        "outputId": "e449f3cd-76ec-404c-b98c-c707d3213ea2"
      },
      "execution_count": 211,
      "outputs": [
        {
          "output_type": "stream",
          "name": "stdout",
          "text": [
            "[[1.0 0.0 0.0 0.0 0.0 0.0 0.0 66.0 3000.0]\n",
            " [0.0 0.0 0.0 0.0 0.0 1.0 0.0 23.0 16900.0]\n",
            " [0.0 0.0 0.0 1.0 0.0 0.0 0.0 71.0 43000.0]\n",
            " [0.0 0.0 0.0 0.0 0.0 0.0 1.0 48.833333333333336 30000.0]\n",
            " [0.0 1.0 0.0 0.0 0.0 0.0 0.0 21.0 21000.0]\n",
            " [0.0 0.0 0.0 0.0 1.0 0.0 0.0 45.0 2100.0]\n",
            " [0.0 0.0 1.0 0.0 0.0 0.0 0.0 67.0 2300.0]]\n"
          ]
        }
      ]
    },
    {
      "cell_type": "code",
      "source": [
        "from sklearn.preprocessing import LabelEncoder\n",
        "le = LabelEncoder()\n",
        "y = le.fit_transform(y)"
      ],
      "metadata": {
        "id": "8NGp26ehxNjo"
      },
      "execution_count": 213,
      "outputs": []
    },
    {
      "cell_type": "code",
      "source": [
        "print(y)"
      ],
      "metadata": {
        "colab": {
          "base_uri": "https://localhost:8080/"
        },
        "id": "8YGaqHYPxhCG",
        "outputId": "4e1188f4-8d13-4451-cb0f-ca3466727953"
      },
      "execution_count": 214,
      "outputs": [
        {
          "output_type": "stream",
          "name": "stdout",
          "text": [
            "[1 0 1 0 1 1 0]\n"
          ]
        }
      ]
    },
    {
      "cell_type": "code",
      "source": [
        " from sklearn.model_selection import train_test_split\n",
        " x_tarin, x_test, y_train, y_test = train_test_split(x, y, test_size=0.2, random_state=1)"
      ],
      "metadata": {
        "id": "dFy_UKpe4FVl"
      },
      "execution_count": 215,
      "outputs": []
    },
    {
      "cell_type": "code",
      "source": [
        "print(x_train)"
      ],
      "metadata": {
        "colab": {
          "base_uri": "https://localhost:8080/"
        },
        "id": "wQB48xcYxsvy",
        "outputId": "d8073a3b-1563-481e-b227-d8788fd1686a"
      },
      "execution_count": 216,
      "outputs": [
        {
          "output_type": "stream",
          "name": "stdout",
          "text": [
            "[[1.0 0.0 0.0 -0.7071067811865476 1.4142135623730951 -0.6317772292155608\n",
            "  0.07412493166610994]\n",
            " [1.0 0.0 1.0 -0.7071067811865476 -0.7071067811865476 -0.779850017312958\n",
            "  -1.260123838323872]\n",
            " [1.0 0.0 0.0 1.4142135623730951 -0.7071067811865476 1.411627246528519\n",
            "  1.185998906657762]]\n"
          ]
        }
      ]
    },
    {
      "cell_type": "code",
      "source": [
        "print(x_test)"
      ],
      "metadata": {
        "colab": {
          "base_uri": "https://localhost:8080/"
        },
        "id": "neEvZNXZyZSv",
        "outputId": "77cfd8f5-cb22-425b-a0c4-44647b7b90a7"
      },
      "execution_count": 217,
      "outputs": [
        {
          "output_type": "stream",
          "name": "stdout",
          "text": [
            "[[0.0 0.0 1.0 0.0 0.0 0.0 0.0 67.0 2300.0]\n",
            " [0.0 0.0 0.0 1.0 0.0 0.0 0.0 71.0 43000.0]]\n"
          ]
        }
      ]
    },
    {
      "cell_type": "code",
      "source": [
        "print(y_train)"
      ],
      "metadata": {
        "colab": {
          "base_uri": "https://localhost:8080/"
        },
        "id": "q9vvZwOVyngR",
        "outputId": "d8e03818-7eea-454d-d7fa-1db5d1af3449"
      },
      "execution_count": 218,
      "outputs": [
        {
          "output_type": "stream",
          "name": "stdout",
          "text": [
            "[0 1 1 0 1]\n"
          ]
        }
      ]
    },
    {
      "cell_type": "code",
      "source": [
        "print(y_test)"
      ],
      "metadata": {
        "colab": {
          "base_uri": "https://localhost:8080/"
        },
        "id": "_WQKmjZbys2k",
        "outputId": "02bd31bc-bda5-4d4e-adff-18191c18f260"
      },
      "execution_count": 219,
      "outputs": [
        {
          "output_type": "stream",
          "name": "stdout",
          "text": [
            "[0 1]\n"
          ]
        }
      ]
    },
    {
      "cell_type": "code",
      "source": [
        "from sklearn.preprocessing import StandardScaler\n",
        "sc = StandardScaler()\n",
        "x_train[:, 3:] = sc.fit_transform(x_train[:, 3])\n",
        "x_test[:, 3:] = sc.transform(x_test[:, 3:])"
      ],
      "metadata": {
        "id": "3OraYuSty8YD"
      },
      "execution_count": null,
      "outputs": []
    },
    {
      "cell_type": "code",
      "source": [
        "print(x_train)"
      ],
      "metadata": {
        "colab": {
          "base_uri": "https://localhost:8080/"
        },
        "id": "DivJC5KeHZnt",
        "outputId": "b12c68e2-8897-4255-f9ef-7fe8af1adad2"
      },
      "execution_count": 221,
      "outputs": [
        {
          "output_type": "stream",
          "name": "stdout",
          "text": [
            "[[1.0 0.0 0.0 -0.7071067811865476 1.4142135623730951 -0.6317772292155608\n",
            "  0.07412493166610994]\n",
            " [1.0 0.0 1.0 -0.7071067811865476 -0.7071067811865476 -0.779850017312958\n",
            "  -1.260123838323872]\n",
            " [1.0 0.0 0.0 1.4142135623730951 -0.7071067811865476 1.411627246528519\n",
            "  1.185998906657762]]\n"
          ]
        }
      ]
    }
  ]
}